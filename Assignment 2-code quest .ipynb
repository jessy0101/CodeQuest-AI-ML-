{
 "cells": [
  {
   "cell_type": "code",
   "execution_count": 5,
   "metadata": {},
   "outputs": [
    {
     "name": "stdout",
     "output_type": "stream",
     "text": [
      "1\n",
      "Your guess is too low\n"
     ]
    }
   ],
   "source": [
    "#Q.1 You decide you want to play a game where you are hiding a number from\n",
    "#someone. Store this number in a variable called 'answer'. Another user provides a\n",
    "#number called 'guess'. By comparing guess to answer, you inform the user if their\n",
    "#guess is too high or too low.\n",
    "answer=10\n",
    "guess=int(input())\n",
    "if(answer==guess):\n",
    " print('Your guess is right')\n",
    " \n",
    "elif(guess>answer):\n",
    " print(\"Your guess is too high\")\n",
    "\n",
    "else :\n",
    " print(\"Your guess is too low\")\n",
    " "
   ]
  },
  {
   "cell_type": "code",
   "execution_count": 7,
   "metadata": {},
   "outputs": [
    {
     "name": "stdout",
     "output_type": "stream",
     "text": [
      "0\n",
      "5\n",
      "10\n",
      "15\n",
      "20\n",
      "25\n"
     ]
    }
   ],
   "source": [
    "#Q2.Write a for loop below that will print out every whole number that is a multiple of 5\n",
    "#and less than or equal to 30.\n",
    "for i in range (30):\n",
    "    if(i%5==0):\n",
    "        print(i)"
   ]
  },
  {
   "cell_type": "code",
   "execution_count": 10,
   "metadata": {},
   "outputs": [
    {
     "name": "stdout",
     "output_type": "stream",
     "text": [
      "81\n"
     ]
    }
   ],
   "source": [
    "#Q3. Write a while loop that finds the largest square number less than an integerlimit\n",
    "#and stores it in a variable nearest_square. A square number is the product of an\n",
    "#integer multiplied by itself, for example 36 is a square number because it equals\n",
    "#6*6.\n",
    "\n",
    "limit=100\n",
    "num=0\n",
    "while((num+1)**2)<limit:\n",
    "    num+=1\n",
    "    nearest_square=num**2\n",
    "print(nearest_square)\n",
    "    "
   ]
  },
  {
   "cell_type": "code",
   "execution_count": null,
   "metadata": {},
   "outputs": [],
   "source": []
  }
 ],
 "metadata": {
  "kernelspec": {
   "display_name": "Python 3",
   "language": "python",
   "name": "python3"
  },
  "language_info": {
   "codemirror_mode": {
    "name": "ipython",
    "version": 3
   },
   "file_extension": ".py",
   "mimetype": "text/x-python",
   "name": "python",
   "nbconvert_exporter": "python",
   "pygments_lexer": "ipython3",
   "version": "3.7.6"
  }
 },
 "nbformat": 4,
 "nbformat_minor": 4
}
